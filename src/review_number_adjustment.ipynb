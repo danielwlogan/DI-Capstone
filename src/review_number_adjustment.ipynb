{
 "cells": [
  {
   "cell_type": "markdown",
   "metadata": {},
   "source": [
    "This notebook explores the effects of yelp ratings based on the number of reviews a restaurant receives."
   ]
  },
  {
   "cell_type": "code",
   "execution_count": null,
   "metadata": {
    "collapsed": true
   },
   "outputs": [],
   "source": [
    "%matplotlib inline\n",
    "import pandas as pd\n",
    "import numpy as np\n",
    "import matplotlib as mpl\n",
    "import matplotlib.pyplot as plt\n",
    "import datetime as dt\n",
    "import seaborn as sns\n",
    "from sklearn import base, linear_model\n",
    "import dill as pickle\n",
    "mpl.rcParams['savefig.dpi'] = 1.5 * mpl.rcParams['savefig.dpi']"
   ]
  },
  {
   "cell_type": "code",
   "execution_count": null,
   "metadata": {
    "collapsed": false
   },
   "outputs": [],
   "source": [
    "business_datafile = '~/capstone/data/yelp_academic_dataset_business.csv'\n",
    "biz_id = 16  # Column containing the business_id, variable used as dataframe index name\n",
    "#user_datafile = '~/capstone/data/yelp_academic_dataset_user.csv'\n",
    "#usr_id = 16  # Column containing the user_id, variable used as dataframe index name\n",
    "review_datafile = '~/capstone/data/yelp_academic_dataset_review.csv'\n",
    "rev_id = 1   # Column containing the review_id, variable used as dataframe index name\n",
    "\n",
    "business = pd.read_csv(business_datafile, index_col=biz_id)\n",
    "#user = pd.read_csv(user_datafile, index_col=usr_id)\n",
    "review = pd.read_csv(review_datafile, index_col=rev_id)"
   ]
  },
  {
   "cell_type": "code",
   "execution_count": null,
   "metadata": {
    "collapsed": false
   },
   "outputs": [],
   "source": [
    "min_reviews = 10\n",
    "\n",
    "rest_crit = business['categories'].map(lambda x: 'Restaurants' in x)\n",
    "restaurants = business[rest_crit]\n",
    "restaurants = restaurants[restaurants.review_count >= min_reviews]\n",
    "restaurant_ids = restaurants.index.values\n",
    "rest_reviews = review[review['business_id'].isin(restaurant_ids)]"
   ]
  },
  {
   "cell_type": "code",
   "execution_count": null,
   "metadata": {
    "collapsed": false
   },
   "outputs": [],
   "source": [
    "grouped_rest_reviews = rest_reviews.groupby(['business_id']).agg(['mean', 'std', 'count'])\n",
    "grouped_rest_reviews.head()"
   ]
  },
  {
   "cell_type": "code",
   "execution_count": null,
   "metadata": {
    "collapsed": false
   },
   "outputs": [],
   "source": [
    "x = grouped_rest_reviews['stars']['count']\n",
    "y = grouped_rest_reviews['stars']['mean']\n",
    "#phx_avg_review.plot(kind='scatter',x=['stars count'],y=['stars mean'])\n",
    "plt.scatter(x,y, alpha=0.5)\n",
    "plt.xscale('log')\n",
    "plt.xlabel('Number of Reviews')\n",
    "plt.ylabel('Average Rating')\n",
    "plt.title('All Restaurants')\n",
    "plt.xlim([10,10000])"
   ]
  },
  {
   "cell_type": "code",
   "execution_count": null,
   "metadata": {
    "collapsed": false
   },
   "outputs": [],
   "source": [
    "def binemup(x):\n",
    "    if x < 32:\n",
    "        return 10\n",
    "    if x < 57:\n",
    "        return 50\n",
    "    if x < 317:\n",
    "        return 100\n",
    "    if x < 563:\n",
    "        return 500\n",
    "    else:\n",
    "        return 1000"
   ]
  },
  {
   "cell_type": "code",
   "execution_count": null,
   "metadata": {
    "collapsed": false
   },
   "outputs": [],
   "source": [
    "tmp = grouped_rest_reviews['stars']['count'].map(binemup)"
   ]
  },
  {
   "cell_type": "code",
   "execution_count": null,
   "metadata": {
    "collapsed": false
   },
   "outputs": [],
   "source": [
    "binned_up = grouped_rest_reviews.copy()\n",
    "binned_up['count_bin'] = tmp\n",
    "binned_up['star_mean'] = binned_up['stars']['mean']\n",
    "binned_up.head()"
   ]
  },
  {
   "cell_type": "code",
   "execution_count": null,
   "metadata": {
    "collapsed": false
   },
   "outputs": [],
   "source": [
    "order=[10,50,100,500,1000]\n",
    "ax = sns.violinplot(x='count_bin', y='star_mean', data=binned_up, order=order)\n",
    "ax.set_xlabel('Number of reviews')\n",
    "ax.set_ylabel('Yelp rating')\n",
    "ax.set_ylim([0,6])\n",
    "\n",
    "bins = [0, 32, 57, 317, 563, 10000]\n",
    "my_hist = np.histogram(binned_up.count_bin, bins=bins)\n",
    "my_hist_frac = 1.*my_hist[0]/sum(my_hist[0])\n",
    "print my_hist_frac\n",
    "my_dict = {'order': order, 'hist': my_hist_frac}\n",
    "hist_df = pd.DataFrame(my_dict)\n",
    "sns.barplot(x='order', y='hist', data=hist_df)"
   ]
  },
  {
   "cell_type": "markdown",
   "metadata": {},
   "source": [
    "Now let's look at how the restaurants with the highest number of reviews evolve over time."
   ]
  },
  {
   "cell_type": "code",
   "execution_count": null,
   "metadata": {
    "collapsed": false
   },
   "outputs": [],
   "source": [
    "bins = [0, 32, 57, 317, 563, 10000]\n",
    "my_hist = np.histogram(binned_up.count_bin, bins=bins)\n",
    "my_hist_frac = 1.*my_hist[0]/sum(my_hist[0])\n",
    "print my_hist_frac"
   ]
  },
  {
   "cell_type": "code",
   "execution_count": null,
   "metadata": {
    "collapsed": false
   },
   "outputs": [],
   "source": [
    "high_reviews = binned_up[binned_up['count_bin'] == 1000].index.values\n",
    "len(high_reviews)"
   ]
  },
  {
   "cell_type": "code",
   "execution_count": null,
   "metadata": {
    "collapsed": false
   },
   "outputs": [],
   "source": [
    "high_restaurants = review[review['business_id'].isin(high_reviews)]\n",
    "high_restaurants.shape"
   ]
  },
  {
   "cell_type": "code",
   "execution_count": null,
   "metadata": {
    "collapsed": false
   },
   "outputs": [],
   "source": [
    "tmp_df = binned_up.groupby(['count_bin']).count()\n",
    "tmp_df"
   ]
  },
  {
   "cell_type": "code",
   "execution_count": null,
   "metadata": {
    "collapsed": true
   },
   "outputs": [],
   "source": [
    "def GetAvg10(dseries):\n",
    "    return dseries.iloc[:10].mean()\n",
    "\n",
    "def GetAvg50(dseries):\n",
    "    return dseries.iloc[:50].mean()\n",
    "\n",
    "def GetAvg100(dseries):\n",
    "    return dseries.iloc[:100].mean()\n",
    "\n",
    "def GetAvg500(dseries):\n",
    "    return dseries.iloc[:500].mean()\n",
    "\n",
    "def GetAvg(dseries):\n",
    "    return dseries.mean()"
   ]
  },
  {
   "cell_type": "code",
   "execution_count": null,
   "metadata": {
    "collapsed": false
   },
   "outputs": [],
   "source": [
    "aggregates = {'stars': [GetAvg10, GetAvg50, GetAvg100, GetAvg500, GetAvg]}\n",
    "sorted_df = high_restaurants.sort('date')\n",
    "my_df = high_restaurants.groupby('business_id', as_index=False).agg(aggregates)\n",
    "my_df.head()"
   ]
  },
  {
   "cell_type": "code",
   "execution_count": null,
   "metadata": {
    "collapsed": false
   },
   "outputs": [],
   "source": [
    "my_stars = my_df['stars']['GetAvg10'].values.tolist()\n",
    "my_stars = my_stars + my_df['stars']['GetAvg50'].values.tolist()\n",
    "my_stars = my_stars + my_df['stars']['GetAvg100'].values.tolist()\n",
    "my_stars = my_stars + my_df['stars']['GetAvg500'].values.tolist()\n",
    "my_stars = my_stars + my_df['stars']['GetAvg'].values.tolist()\n",
    "\n",
    "my_counts = [10]*len(high_reviews) + [50]*len(high_reviews) + \\\n",
    "            [100]*len(high_reviews) + [500]*len(high_reviews) + \\\n",
    "            [1000]*len(high_reviews)\n",
    "\n",
    "my_id = my_df['business_id'].values.tolist()*5\n",
    "my_dict = {'stars': my_stars, 'counts': my_counts, 'cat': ['high']*5*len(high_reviews), \\\n",
    "           'business_id': my_id}\n",
    "high_review_df = pd.DataFrame(my_dict)"
   ]
  },
  {
   "cell_type": "code",
   "execution_count": null,
   "metadata": {
    "collapsed": false
   },
   "outputs": [],
   "source": [
    "order=[10,50,100,500,1000]\n",
    "ax = sns.violinplot(x='counts', y='stars', data=high_review_df, order=order)\n",
    "ax.set_xlabel('Number of reviews')\n",
    "ax.set_ylabel('Yelp rating')\n",
    "ax.set_ylim([0,6])"
   ]
  },
  {
   "cell_type": "code",
   "execution_count": null,
   "metadata": {
    "collapsed": false
   },
   "outputs": [],
   "source": [
    "my_dict = {'order': order, 'hist': my_hist_frac}\n",
    "hist_df = pd.DataFrame(my_dict)\n",
    "\n",
    "sns.barplot(x='order', y='hist', data=hist_df)"
   ]
  },
  {
   "cell_type": "code",
   "execution_count": null,
   "metadata": {
    "collapsed": false
   },
   "outputs": [],
   "source": [
    "count_bin = binned_up['count_bin'].tolist()\n",
    "star_mean = binned_up['star_mean'].tolist()\n",
    "cat = ['all']*len(star_mean)\n",
    "start = pd.DataFrame({'counts': count_bin, 'stars': star_mean, 'cat': cat, \\\n",
    "                     'business_id': binned_up.index.values.tolist()})\n",
    "combined = pd.concat([start, high_review_df])\n",
    "combined.rename(columns={'cat': 'Review Type'})\n",
    "combined.head()"
   ]
  },
  {
   "cell_type": "code",
   "execution_count": null,
   "metadata": {
    "collapsed": false
   },
   "outputs": [],
   "source": [
    "order=[10,50,100,500,1000]\n",
    "ax = sns.violinplot(x='counts', y='stars', hue='cat', data=combined, \\\n",
    "                    order=order, split=True, palette=\"muted\", bw=0.25, \\\n",
    "                    inner=None)\n",
    "ax.set_xlabel('Number of reviews')\n",
    "ax.set_ylabel('Yelp rating')\n",
    "ax.set_ylim([0,6])"
   ]
  },
  {
   "cell_type": "code",
   "execution_count": null,
   "metadata": {
    "collapsed": false
   },
   "outputs": [],
   "source": [
    "open_rest = restaurants[restaurants['open']]\n",
    "print '{} open restaurants, {} total restaurants'.format(len(open_rest),len(restaurants))"
   ]
  },
  {
   "cell_type": "code",
   "execution_count": null,
   "metadata": {
    "collapsed": false
   },
   "outputs": [],
   "source": [
    "binned_up2 = pd.concat([binned_up,restaurants['open']], axis=1)\n",
    "binned_up2.reset_index(inplace=True)\n",
    "binned_up2.rename(columns={('count_bin', ''): 'counts', ('star_mean', ''): 'stars'}, inplace=True)\n",
    "binned_up2.head()"
   ]
  },
  {
   "cell_type": "code",
   "execution_count": null,
   "metadata": {
    "collapsed": false
   },
   "outputs": [],
   "source": [
    "order=[10,50,100,500,1000]\n",
    "ax = sns.violinplot(x='counts', y='stars', hue='open', data=binned_up2, \\\n",
    "                    order=order, split=True, palette='muted', bw=0.3, \\\n",
    "                    inner=None)\n",
    "ax.set_xlabel('Number of reviews')\n",
    "ax.set_ylabel('Yelp rating')\n",
    "ax.set_ylim([0,6])"
   ]
  }
 ],
 "metadata": {
  "kernelspec": {
   "display_name": "Python 2",
   "language": "python",
   "name": "python2"
  },
  "language_info": {
   "codemirror_mode": {
    "name": "ipython",
    "version": 2
   },
   "file_extension": ".py",
   "mimetype": "text/x-python",
   "name": "python",
   "nbconvert_exporter": "python",
   "pygments_lexer": "ipython2",
   "version": "2.7.10"
  }
 },
 "nbformat": 4,
 "nbformat_minor": 0
}
