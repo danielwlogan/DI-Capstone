{
 "cells": [
  {
   "cell_type": "markdown",
   "metadata": {},
   "source": [
    "This ipython notebook takes all the corrections, creates a new python DataFrame which is then output to a csv file. This csv file is meant to be uploaded to Google Drive to provide the basis for the Google Fusion Table."
   ]
  },
  {
   "cell_type": "code",
   "execution_count": null,
   "metadata": {
    "collapsed": true
   },
   "outputs": [],
   "source": [
    "import dill as pickle\n",
    "import pandas as pd\n",
    "import numpy as np"
   ]
  },
  {
   "cell_type": "code",
   "execution_count": null,
   "metadata": {
    "collapsed": false
   },
   "outputs": [],
   "source": [
    "good_cols = ['business_id','name','full_address','city','state', \\\n",
    "             'latitude','longitude','stars','review_count','categories']\n",
    "business_datafile = '~/capstone/data/yelp_academic_dataset_business.csv'\n",
    "business = pd.read_csv(business_datafile, usecols=good_cols)\n",
    "business.tail()"
   ]
  },
  {
   "cell_type": "code",
   "execution_count": null,
   "metadata": {
    "collapsed": true
   },
   "outputs": [],
   "source": [
    "filename = '/home/vagrant/capstone/data/date_adjusted_ratings.pkl'\n",
    "with open(filename,'r') as f:\n",
    "    date_adjusted_ratings = pickle.load(f)"
   ]
  },
  {
   "cell_type": "code",
   "execution_count": null,
   "metadata": {
    "collapsed": false
   },
   "outputs": [],
   "source": [
    "final_ratings = business.copy()\n",
    "final_ratings = pd.merge(business, date_adjusted_ratings, on='business_id')\n",
    "final_ratings.rename(columns={'stars_x': 'yelp_stars_round', 'stars_y': 'yelp_stars_calc'}, inplace=True)\n",
    "final_ratings['date_correction'] = -1.*final_ratings['date_correction']\n",
    "final_ratings.head()"
   ]
  },
  {
   "cell_type": "code",
   "execution_count": null,
   "metadata": {
    "collapsed": false
   },
   "outputs": [],
   "source": [
    "anchor_datafile = '/home/vagrant/capstone/data/anchor_adjusted_ratings.pkl'\n",
    "with open(anchor_datafile,'r') as f:\n",
    "    anchor_df = pickle.load(f)\n",
    "\n",
    "anchor_df['anchor_correction'] = anchor_df['anchor_avg']-anchor_df['raw_avg']\n",
    "anchor_df.head()"
   ]
  },
  {
   "cell_type": "code",
   "execution_count": null,
   "metadata": {
    "collapsed": false
   },
   "outputs": [],
   "source": [
    "final_ratings = pd.merge(final_ratings, anchor_df, on='business_id')\n",
    "final_ratings.drop(['raw_avg'], inplace=True, axis=1)\n",
    "final_ratings.head()"
   ]
  },
  {
   "cell_type": "code",
   "execution_count": null,
   "metadata": {
    "collapsed": false
   },
   "outputs": [],
   "source": [
    "city_datafile = '/home/vagrant/capstone/data/city_adjusted_ratings.pkl'\n",
    "with open(city_datafile,'r') as f:\n",
    "    city_df = pickle.load(f)\n",
    "\n",
    "city_df.drop(['state','stars'], axis=1, inplace=True)\n",
    "city_df.rename(columns={'adjustment': 'city_correction', 'city_adj_stars': 'city_avg'}, inplace=True)\n",
    "city_df.head()"
   ]
  },
  {
   "cell_type": "code",
   "execution_count": null,
   "metadata": {
    "collapsed": false
   },
   "outputs": [],
   "source": [
    "final_ratings = pd.merge(final_ratings, city_df, on='business_id')\n",
    "final_ratings['total_correction'] = final_ratings.date_correction + \\\n",
    "                                    final_ratings.anchor_correction + \\\n",
    "                                    final_ratings.city_correction\n",
    "final_ratings['corrected_stars'] = final_ratings.yelp_stars_calc + \\\n",
    "                                    final_ratings.date_correction + \\\n",
    "                                    final_ratings.anchor_correction + \\\n",
    "                                    final_ratings.city_correction\n",
    "final_ratings['correction_for_color'] = final_ratings.date_correction + final_ratings.anchor_correction\n",
    "final_ratings.head()"
   ]
  },
  {
   "cell_type": "code",
   "execution_count": null,
   "metadata": {
    "collapsed": false
   },
   "outputs": [],
   "source": [
    "ratings_rounded = final_ratings.round( {'yelp_stars_calc': 2, 'anchor_correction': 2,\n",
    "     'city_correction': 2, 'date_correction': 2, 'corrected_stars': 2, 'total_correction': 2})\n",
    "ratings_rounded['star_for_checkbox'] = [round(x) for x in ratings_rounded.corrected_stars]\n",
    "ratings_rounded.head()"
   ]
  },
  {
   "cell_type": "code",
   "execution_count": null,
   "metadata": {
    "collapsed": true
   },
   "outputs": [],
   "source": [
    "#filename = '/home/vagrant/capstone/data/final_adjusted_ratings.pkl'\n",
    "#with open(filename,'w') as f:\n",
    "#    pickle.dump(ratings_rounded, f)\n",
    "filename = '/home/vagrant/capstone/data/final_adjusted_ratings.csv'\n",
    "ratings_rounded.to_csv(filename, index=False, encoding='utf-8')"
   ]
  },
  {
   "cell_type": "code",
   "execution_count": null,
   "metadata": {
    "collapsed": true
   },
   "outputs": [],
   "source": []
  }
 ],
 "metadata": {
  "kernelspec": {
   "display_name": "Python 2",
   "language": "python",
   "name": "python2"
  },
  "language_info": {
   "codemirror_mode": {
    "name": "ipython",
    "version": 2
   },
   "file_extension": ".py",
   "mimetype": "text/x-python",
   "name": "python",
   "nbconvert_exporter": "python",
   "pygments_lexer": "ipython2",
   "version": "2.7.10"
  }
 },
 "nbformat": 4,
 "nbformat_minor": 0
}
