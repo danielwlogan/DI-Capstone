{
 "cells": [
  {
   "cell_type": "markdown",
   "metadata": {},
   "source": [
    "# What happens when restaurants change stars?\n",
    "\n",
    "If a restaurant changes a yelp star rating (move up or down 1/2 star), how do the subsequent N reviews compare to the  N reviews immediately preceeding the change? If we can take an average of this, then maybe we can estimate what affect the change in star rating has."
   ]
  },
  {
   "cell_type": "code",
   "execution_count": null,
   "metadata": {
    "collapsed": true
   },
   "outputs": [],
   "source": [
    "%matplotlib inline\n",
    "import pandas as pd\n",
    "import numpy as np\n",
    "import matplotlib as mpl\n",
    "import matplotlib.pyplot as plt\n",
    "import datetime as dt\n",
    "import seaborn as sns\n",
    "from sklearn import base, linear_model\n",
    "import dill as pickle\n",
    "mpl.rcParams['savefig.dpi'] = 1.5 * mpl.rcParams['savefig.dpi']"
   ]
  },
  {
   "cell_type": "code",
   "execution_count": null,
   "metadata": {
    "collapsed": true
   },
   "outputs": [],
   "source": [
    "def adjust_date(df, date_col='date', year=False, month=False, week=False):\n",
    "    if year: df[date_col] = df[date_col].map(lambda x: x.replace(x[:4], '2000'))\n",
    "    if month: df[date_col] = df[date_col].map(lambda x: x.replace(x[8:], '01'))\n",
    "    if week:\n",
    "        i = 0\n",
    "        for d in df[date_col]:\n",
    "            if int(d[8:]) < 8: new_day = '01'\n",
    "            elif int(d[8:]) < 15: new_day = '08'\n",
    "            elif int(d[8:]) < 22: new_day = '15'\n",
    "            else: new_day = '22'\n",
    "            df.at[i,date_col] = d.replace(d[8:], new_day)\n",
    "            i = i + 1\n",
    "    # Convert 'date' column from strings to a datetimes\n",
    "    df[date_col] = pd.to_datetime(df[date_col], format='%Y-%m-%d')\n",
    "    return df;"
   ]
  },
  {
   "cell_type": "code",
   "execution_count": null,
   "metadata": {
    "collapsed": false
   },
   "outputs": [],
   "source": [
    "business_datafile = '~/capstone/data/yelp_academic_dataset_business.csv'\n",
    "biz_id = 16  # Column containing the business_id, variable used as dataframe index name\n",
    "#user_datafile = '~/capstone/data/yelp_academic_dataset_user.csv'\n",
    "#usr_id = 16  # Column containing the user_id, variable used as dataframe index name\n",
    "review_datafile = '~/capstone/data/yelp_academic_dataset_review.csv'\n",
    "rev_id = 1   # Column containing the review_id, variable used as dataframe index name\n",
    "\n",
    "business = pd.read_csv(business_datafile, index_col=biz_id)\n",
    "#user = pd.read_csv(user_datafile, index_col=usr_id)\n",
    "review = pd.read_csv(review_datafile, index_col=rev_id)"
   ]
  },
  {
   "cell_type": "code",
   "execution_count": null,
   "metadata": {
    "collapsed": false
   },
   "outputs": [],
   "source": [
    "rest_crit = business['categories'].map(lambda x: 'Restaurants' in x)\n",
    "restaurants = business[rest_crit]\n",
    "restaurant_ids = restaurants.index.values\n",
    "rest_reviews = review[review['business_id'].isin(restaurant_ids)]\n",
    "\n",
    "rest_reviews = adjust_date(rest_reviews)\n",
    "rest_reviews.drop(['user_id','text','votes.cool','votes.funny','type','votes.useful'],axis=1, inplace=True)\n",
    "rest_reviews.head()"
   ]
  },
  {
   "cell_type": "code",
   "execution_count": null,
   "metadata": {
    "collapsed": false
   },
   "outputs": [],
   "source": [
    "final_list = []\n",
    "for business_id, df in rest_reviews.groupby(['business_id'], sort=False):\n",
    "    my_avg = pd.expanding_mean(df.stars)\n",
    "    my_nearest = np.round(my_avg*2.)/2.\n",
    "    if len(df) > 10:\n",
    "        rd = 1.*df['stars'][1:] - 1.*my_nearest[:-1]\n",
    "        rating_drift = [0.]+rd\n",
    "        my_rd = np.array(rating_drift)*0.35\n",
    "        my_anchor_adjusted = df['stars']+my_rd\n",
    "\n",
    "    else:\n",
    "        my_anchor_adjusted = df.stars\n",
    "    raw_avg = df.stars.mean()        \n",
    "    adj_avg = my_anchor_adjusted.mean()\n",
    "    df_dict = {'business_id': business_id, 'raw_avg': raw_avg, 'anchor_avg': adj_avg}\n",
    "    final_list.append(df_dict)"
   ]
  },
  {
   "cell_type": "code",
   "execution_count": null,
   "metadata": {
    "collapsed": false
   },
   "outputs": [],
   "source": [
    "final_df = pd.DataFrame(final_list)\n",
    "plt.scatter(final_df.raw_avg, final_df.anchor_avg, color='dodgerblue', alpha=0.4, edgecolor='black')\n",
    "plt.xlabel('Yelp Average Rating')\n",
    "plt.ylabel('Anchor Adjusted Rating')"
   ]
  },
  {
   "cell_type": "code",
   "execution_count": null,
   "metadata": {
    "collapsed": false
   },
   "outputs": [],
   "source": [
    "tmp_df = rest_reviews[rest_reviews.business_id == 'kXpQzN1jJ3vHuvUnbvqxzg']\n",
    "tmp_df"
   ]
  },
  {
   "cell_type": "markdown",
   "metadata": {},
   "source": [
    "Example to play with"
   ]
  },
  {
   "cell_type": "code",
   "execution_count": null,
   "metadata": {
    "collapsed": false
   },
   "outputs": [],
   "source": [
    "tmp_df = rest_reviews[rest_reviews.business_id == '--5jkZ3-nUPZxUvtcbr8Uw']\n",
    "print len(tmp_df)\n",
    "tmp_df.reset_index(inplace=True)\n",
    "tmp_df.head()"
   ]
  },
  {
   "cell_type": "code",
   "execution_count": null,
   "metadata": {
    "collapsed": false
   },
   "outputs": [],
   "source": [
    "b = tmp_df.copy()\n",
    "b['avg'] = pd.expanding_mean(tmp_df['stars'])\n",
    "b['nearest'] = np.round(b.avg*2.)/2.\n",
    "\n",
    "rd = 1.*b['stars'][1:] - 1.*b['nearest'][:-1]\n",
    "rating_drift = [0.]+rd\n",
    "b['rating_drift'] = rating_drift*0.35\n",
    "b['anchor_adjusted'] = b['stars']+b['rating_drift']\n",
    "#b.anchor_adjusted[b['anchor_adjusted'] > 5] = 5.\n",
    "#b.anchor_adjusted[b['anchor_adjusted'] < 1] = 1.\n",
    "b"
   ]
  },
  {
   "cell_type": "code",
   "execution_count": null,
   "metadata": {
    "collapsed": false
   },
   "outputs": [],
   "source": [
    "print b.anchor_adjusted.mean()\n",
    "print b.avg[51]"
   ]
  },
  {
   "cell_type": "code",
   "execution_count": null,
   "metadata": {
    "collapsed": true
   },
   "outputs": [],
   "source": [
    "filename = '/home/vagrant/capstone/data/anchor_adjusted_ratings.pkl'\n",
    "with open(filename,'w') as f:\n",
    "    pickle.dump(final_df, f)"
   ]
  },
  {
   "cell_type": "code",
   "execution_count": null,
   "metadata": {
    "collapsed": false
   },
   "outputs": [],
   "source": [
    "anchor_datafile = '/home/vagrant/capstone/data/anchor_adjusted_ratings.pkl'\n",
    "with open(anchor_datafile,'r') as f:\n",
    "    df = pickle.load(f)\n",
    "df.head()"
   ]
  },
  {
   "cell_type": "code",
   "execution_count": null,
   "metadata": {
    "collapsed": false
   },
   "outputs": [],
   "source": [
    "plt.scatter(np.arange(len(final_df)), final_df.raw_avg-final_df.anchor_avg, alpha=0.4)"
   ]
  },
  {
   "cell_type": "code",
   "execution_count": null,
   "metadata": {
    "collapsed": false
   },
   "outputs": [],
   "source": [
    "x = np.arange(62)/30.-1.05\n",
    "y = np.histogram(final_df.raw_avg-final_df.anchor_avg, bins=x)"
   ]
  },
  {
   "cell_type": "code",
   "execution_count": null,
   "metadata": {
    "collapsed": false
   },
   "outputs": [],
   "source": [
    "plt.hist(final_df.raw_avg-final_df.anchor_avg, 62)"
   ]
  },
  {
   "cell_type": "code",
   "execution_count": null,
   "metadata": {
    "collapsed": true
   },
   "outputs": [],
   "source": []
  }
 ],
 "metadata": {
  "kernelspec": {
   "display_name": "Python 2",
   "language": "python",
   "name": "python2"
  },
  "language_info": {
   "codemirror_mode": {
    "name": "ipython",
    "version": 2
   },
   "file_extension": ".py",
   "mimetype": "text/x-python",
   "name": "python",
   "nbconvert_exporter": "python",
   "pygments_lexer": "ipython2",
   "version": "2.7.10"
  }
 },
 "nbformat": 4,
 "nbformat_minor": 0
}
