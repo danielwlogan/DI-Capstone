{
 "cells": [
  {
   "cell_type": "markdown",
   "metadata": {},
   "source": [
    "# How does the city influence the distribution of ratings?\n",
    "\n",
    "Are there cities that give high reviews? Are there cities whose spread of ratings narrower?"
   ]
  },
  {
   "cell_type": "code",
   "execution_count": null,
   "metadata": {
    "collapsed": true
   },
   "outputs": [],
   "source": [
    "%matplotlib inline\n",
    "import pandas as pd\n",
    "import numpy as np\n",
    "import matplotlib as mpl\n",
    "import matplotlib.pyplot as plt\n",
    "import datetime as dt\n",
    "import seaborn as sns\n",
    "from sklearn import base, linear_model\n",
    "import dill as pickle\n",
    "mpl.rcParams['savefig.dpi'] = 1.5 * mpl.rcParams['savefig.dpi']"
   ]
  },
  {
   "cell_type": "code",
   "execution_count": null,
   "metadata": {
    "collapsed": true
   },
   "outputs": [],
   "source": [
    "def adjust_date(df, date_col='date', year=False, month=False, week=False):\n",
    "    if year: df[date_col] = df[date_col].map(lambda x: x.replace(x[:4], '2000'))\n",
    "    if month: df[date_col] = df[date_col].map(lambda x: x.replace(x[8:], '01'))\n",
    "    if week:\n",
    "        i = 0\n",
    "        for d in df[date_col]:\n",
    "            if int(d[8:]) < 8: new_day = '01'\n",
    "            elif int(d[8:]) < 15: new_day = '08'\n",
    "            elif int(d[8:]) < 22: new_day = '15'\n",
    "            else: new_day = '22'\n",
    "            df.at[i,date_col] = d.replace(d[8:], new_day)\n",
    "            i = i + 1\n",
    "    # Convert 'date' column from strings to a datetimes\n",
    "    df[date_col] = pd.to_datetime(df[date_col], format='%Y-%m-%d')\n",
    "    return df;"
   ]
  },
  {
   "cell_type": "code",
   "execution_count": null,
   "metadata": {
    "collapsed": false
   },
   "outputs": [],
   "source": [
    "business_datafile = '~/capstone/data/yelp_academic_dataset_business.csv'\n",
    "biz_id = 16  # Column containing the business_id, variable used as dataframe index name\n",
    "#user_datafile = '~/capstone/data/yelp_academic_dataset_user.csv'\n",
    "#usr_id = 16  # Column containing the user_id, variable used as dataframe index name\n",
    "review_datafile = '~/capstone/data/yelp_academic_dataset_review.csv'\n",
    "rev_id = 1   # Column containing the review_id, variable used as dataframe index name\n",
    "\n",
    "business = pd.read_csv(business_datafile, index_col=biz_id)\n",
    "#user = pd.read_csv(user_datafile, index_col=usr_id)\n",
    "review = pd.read_csv(review_datafile, index_col=rev_id)\n",
    "\n",
    "rest_crit = business['categories'].map(lambda x: 'Restaurants' in x)\n",
    "restaurants = business[rest_crit]\n",
    "restaurant_ids = restaurants.index.values\n",
    "rest_reviews = review[review['business_id'].isin(restaurant_ids)]\n",
    "\n",
    "rest_reviews = adjust_date(rest_reviews)"
   ]
  },
  {
   "cell_type": "code",
   "execution_count": null,
   "metadata": {
    "collapsed": false
   },
   "outputs": [],
   "source": [
    "type(rest_crit)\n",
    "rest_crit.head()"
   ]
  },
  {
   "cell_type": "code",
   "execution_count": null,
   "metadata": {
    "collapsed": false
   },
   "outputs": [],
   "source": [
    "min_reviews = 1\n",
    "\n",
    "rest_train = restaurants[restaurants.review_count >= min_reviews]\n",
    "rest_ids = rest_train.index.values\n",
    "reviews_train = rest_reviews[rest_reviews['business_id'].isin(rest_ids)]\n",
    "reviews_train.drop(['votes.cool','votes.funny','votes.useful','type', 'text', 'user_id'], axis=1, inplace=True)\n",
    "reviews_train.reset_index(inplace=True)\n",
    "reviews_train.drop(['review_id'], axis=1, inplace=True)\n",
    "gby_biz_reviews = reviews_train.groupby(['business_id'], as_index=False).mean()\n",
    "gby_biz_reviews.head()"
   ]
  },
  {
   "cell_type": "code",
   "execution_count": null,
   "metadata": {
    "collapsed": false
   },
   "outputs": [],
   "source": [
    "tmp = restaurants.reset_index()\n",
    "state = tmp[['business_id','state']]\n",
    "print state.state.unique()\n",
    "# Combine multi-state metro areas to a single state metro-area\n",
    "# Drop the clearly mislabeled/bad data\n",
    "# XGL - is the code for greater London\n",
    "# NW - is the code for Nordrhein-Westfalen, not near Karlsrhue\n",
    "state.state.replace(to_replace=['SC','MLN','FIF','ELN','BW','RP'],\n",
    "                    value=['NC','EDH','EDH','EDH','KHL','KHL'],\n",
    "                    inplace=True)\n",
    "state = state[state.state != 'XGL']\n",
    "state = state[state.state != 'NW']\n",
    "print state.state.unique()\n",
    "state.head()"
   ]
  },
  {
   "cell_type": "code",
   "execution_count": null,
   "metadata": {
    "collapsed": false
   },
   "outputs": [],
   "source": [
    "grouped_reviews = pd.merge(gby_biz_reviews, state, on='business_id')\n",
    "grouped_reviews.tail()"
   ]
  },
  {
   "cell_type": "markdown",
   "metadata": {},
   "source": [
    "Get the histogram of star ratings for each city"
   ]
  },
  {
   "cell_type": "code",
   "execution_count": null,
   "metadata": {
    "collapsed": false
   },
   "outputs": [],
   "source": [
    "state_dist = {}\n",
    "state_mean = {}\n",
    "state_sd = {}\n",
    "bins = np.arange(42)/10.+0.95\n",
    "bin_centers = np.arange(41)/10.+1.\n",
    "for state, df in grouped_reviews.groupby(['state']):\n",
    "    tmp_hist = np.histogram(df.stars, bins=bins)\n",
    "    state_dist[state] = 1.*tmp_hist[0]/np.sum(tmp_hist[0])\n",
    "    state_mean[state] = df.stars.mean()\n",
    "    state_sd[state] = df.stars.std()\n",
    "state_dist_df = pd.DataFrame(state_dist)\n",
    "state_dist_df['bins'] = bin_centers\n",
    "state_dist_df.head()"
   ]
  },
  {
   "cell_type": "code",
   "execution_count": null,
   "metadata": {
    "collapsed": false
   },
   "outputs": [],
   "source": [
    "xlabels = ['']*len(state_dist_df.bins)\n",
    "xlabels[0] = '1'\n",
    "xlabels[5] = '1.5'\n",
    "xlabels[10] = '2'\n",
    "xlabels[15] = '2.5'\n",
    "xlabels[20] = '3'\n",
    "xlabels[25] = '3.5'\n",
    "xlabels[30] = '4'\n",
    "xlabels[35] = '4.5'\n",
    "xlabels[40] = '5'\n",
    "\n",
    "ax = sns.barplot(x='bins', y='IL', data=state_dist_df, color='goldenrod', alpha=.5)\n",
    "sns.barplot(x='bins', y='QC', data=state_dist_df, color='dodgerblue', alpha=.5)\n",
    "\n",
    "ax.set_xticklabels(xlabels)\n",
    "ax.set(xlabel='Yelp Star Rating', ylabel='Fraction of Restaurants', title='Original ratings')\n",
    "\n",
    "import matplotlib.patches as mpatches\n",
    "yellow_patch = mpatches.Patch(color='goldenrod', label='Champaign-Urbana', alpha=0.5)\n",
    "blue_patch = mpatches.Patch(color='dodgerblue', label='Montreal', alpha=0.5)\n",
    "ax.legend(handles=[yellow_patch, blue_patch], loc=2)"
   ]
  },
  {
   "cell_type": "code",
   "execution_count": null,
   "metadata": {
    "collapsed": false
   },
   "outputs": [],
   "source": [
    "print state_mean\n",
    "print state_sd"
   ]
  },
  {
   "cell_type": "code",
   "execution_count": null,
   "metadata": {
    "collapsed": true
   },
   "outputs": [],
   "source": [
    "def Standardize(row, mean_dict, sd_dict):\n",
    "    return (row['stars'] - mean_dict[row['state']])/sd_dict[row['state']] + 3.0"
   ]
  },
  {
   "cell_type": "code",
   "execution_count": null,
   "metadata": {
    "collapsed": false
   },
   "outputs": [],
   "source": [
    "tmp = grouped_reviews.apply(Standardize, args=(state_mean, state_sd), axis=1)\n",
    "grouped_reviews['adjustment'] = tmp - grouped_reviews['stars']\n",
    "grouped_reviews['city_adj_stars'] = tmp\n",
    "grouped_reviews.head()"
   ]
  },
  {
   "cell_type": "code",
   "execution_count": null,
   "metadata": {
    "collapsed": false
   },
   "outputs": [],
   "source": [
    "state_dist = {}\n",
    "state_mean = {}\n",
    "state_sd = {}\n",
    "bins = np.arange(42)/10.+0.95\n",
    "bin_centers = np.arange(41)/10.+1.\n",
    "for state, df in grouped_reviews.groupby(['state']):\n",
    "    tmp_hist = np.histogram(df.city_adj_stars, bins=bins)\n",
    "    state_dist[state] = 1.*tmp_hist[0]/np.sum(tmp_hist[0])\n",
    "    state_mean[state] = df.stars.mean()\n",
    "    state_sd[state] = df.stars.std()\n",
    "state_dist_df = pd.DataFrame(state_dist)\n",
    "state_dist_df['bins'] = bin_centers\n",
    "\n",
    "xlabels = ['']*len(state_dist_df.bins)\n",
    "xlabels[0] = '1'\n",
    "xlabels[5] = '1.5'\n",
    "xlabels[10] = '2'\n",
    "xlabels[15] = '2.5'\n",
    "xlabels[20] = '3'\n",
    "xlabels[25] = '3.5'\n",
    "xlabels[30] = '4'\n",
    "xlabels[35] = '4.5'\n",
    "xlabels[40] = '5'\n",
    "\n",
    "ax = sns.barplot(x='bins', y='IL', data=state_dist_df, color='goldenrod', alpha=.5)\n",
    "sns.barplot(x='bins', y='QC', data=state_dist_df, color='dodgerblue', alpha=.5)\n",
    "\n",
    "ax.set_xticklabels(xlabels)\n",
    "ax.set(xlabel='Yelp Star Rating', ylabel='Fraction of Restaurants', title='City corrected ratings')\n",
    "\n",
    "import matplotlib.patches as mpatches\n",
    "yellow_patch = mpatches.Patch(color='goldenrod', label='Champaign-Urbana', alpha=0.5)\n",
    "blue_patch = mpatches.Patch(color='dodgerblue', label='Montreal', alpha=0.5)\n",
    "ax.legend(handles=[yellow_patch, blue_patch], loc=2)"
   ]
  },
  {
   "cell_type": "code",
   "execution_count": null,
   "metadata": {
    "collapsed": false
   },
   "outputs": [],
   "source": [
    "print 'The maximum restaurant UNDER-rating is {}'.format(grouped_reviews.adjustment.max())\n",
    "print 'The maximum restaurant OVER-rating is {}'.format(grouped_reviews.adjustment.min())"
   ]
  },
  {
   "cell_type": "code",
   "execution_count": null,
   "metadata": {
    "collapsed": true
   },
   "outputs": [],
   "source": [
    "filename = '/home/vagrant/capstone/data/city_adjusted_ratings.pkl'\n",
    "with open(filename,'w') as f:\n",
    "    pickle.dump(grouped_reviews, f)"
   ]
  },
  {
   "cell_type": "code",
   "execution_count": null,
   "metadata": {
    "collapsed": true
   },
   "outputs": [],
   "source": []
  }
 ],
 "metadata": {
  "kernelspec": {
   "display_name": "Python 2",
   "language": "python",
   "name": "python2"
  },
  "language_info": {
   "codemirror_mode": {
    "name": "ipython",
    "version": 2
   },
   "file_extension": ".py",
   "mimetype": "text/x-python",
   "name": "python",
   "nbconvert_exporter": "python",
   "pygments_lexer": "ipython2",
   "version": "2.7.10"
  }
 },
 "nbformat": 4,
 "nbformat_minor": 0
}
